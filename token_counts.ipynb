{
  "nbformat": 4,
  "nbformat_minor": 0,
  "metadata": {
    "colab": {
      "name": "term-statistics.ipynb",
      "provenance": [],
      "include_colab_link": true
    },
    "kernelspec": {
      "name": "python3",
      "display_name": "Python 3"
    },
    "language_info": {
      "name": "python"
    }
  },
  "cells": [
    {
      "cell_type": "markdown",
      "metadata": {
        "id": "view-in-github",
        "colab_type": "text"
      },
      "source": [
        "<a href=\"https://colab.research.google.com/github/sirius70/NLP_HW1/blob/main/token_counts.ipynb\" target=\"_parent\"><img src=\"https://colab.research.google.com/assets/colab-badge.svg\" alt=\"Open In Colab\"/></a>"
      ]
    },
    {
      "cell_type": "markdown",
      "metadata": {
        "id": "2yYCQrU0J5C5"
      },
      "source": [
        "# Empirical Regularities of Language\n",
        "\n",
        "In this first homework assignment, you will familiarize yourself with some empirical regularities of natural language, Shannon entropy and Zipf's Law.\n",
        "\n",
        "Read through this Jupyter notebook and fill in the parts marked with `TODO`. When you're ready to submit, print the notebook as a PDF and upload to Gradescope.\n",
        "\n",
        "## Shannon Entropy\n",
        "\n",
        "Shannon borrowed the concept of entropy from statistical physics to develop _information theory_, focused on encoding and compressing messages. A few years later, in 1950, he applied information theory to analyze human predictive ability—in other words, the entropy of the human language model. You can read the original article, [Prediction and Entropy of Printed English](https://languagelog.ldc.upenn.edu/myl/Shannon1950.pdf), for more details.\n",
        "\n",
        "Your first task is to collect data on how predictable different letters are in an English sentence, depending on how much context in a word or sentence you have.\n",
        "\n",
        "Go to the [Shannon game page](https://www.ccs.neu.edu/home/dasmith/courses/cs6120/shannon/) that we demonstrated in class. We already guessed part of Text 1, so work through Texts 2, 3, and 4."
      ]
    },
    {
      "cell_type": "code",
      "source": [
        "# TODO: Enter the arrays of numbers of guesses for Texts 2, 3, and 4 here.\n",
        "text2_guesses = [13, 6,\t5, 3, 1, 1, 1, 1, 9, 2, 2, 1, 1, 2, 1, 1, 2, 1, 11, 3, 4, 2, 1, 1, 1, 1, 1, 8, 4, 3, 2, 1, 10, 1, 1, 1, 1, 6, 5, 5, 1, 1, 1, 1, 1, 1, 1]\n",
        "\n",
        "text3_guesses = [1, 3, 1, 9, 5,\t2, 1, 1, 8, 3, 1, 1, 1,\t1, 1, 1, 1, 1, 1, 1, 3,\t1, 1, 1, 1, 16, 2, 11, 1, 1, 1, 1, 1, 1, 1, 7, 2, 2, 1, 1, 1, 7, 4, 1, 5, 4, 7, 1, 4, 1, 1, 1, 3, 2, 1, 5, 1, 2, 1, 1, 1, 1, 1, 2, 1, 1, 1]\n",
        "\n",
        "text4_guesses = [2, 1, 5, 1, 1,\t8, 3, 2, 2, 3, 1, 1, 1,\t1, 1, 7, 4, 3, 1, 1, 1,\t1, 1, 1, 1, 1, 2, 3, 1, 1, 7, 1, 13, 5, 5, 1, 1, 1, 1, 18, 2, 5, 1, 2, 5, 1, 1, 1, 1, 1, 1, 1, 1, 4, 1, 1, 1]\n"
      ],
      "metadata": {
        "id": "n6siYs-p0-_E"
      },
      "execution_count": 1,
      "outputs": []
    },
    {
      "cell_type": "markdown",
      "source": [
        "Rearrange the guess data into a two-dimensional array, relating number of characters of context (0, 1, 2, ...) to number of guesses required.\n",
        "\n",
        "In other words, you might look in cell (2, 1) and read \"2\" if the number of times it took one guess to get the right letter with two characters of context was 2."
      ],
      "metadata": {
        "id": "3P2UvFmj2Ep2"
      }
    },
    {
      "cell_type": "code",
      "source": [
        "# TODO: Create array of counts of guesses. Print out the array so we can see it.\n",
        "import numpy as np\n",
        "\n",
        "def build_matrix(*texts, max_guess=27):\n",
        "    max_context = max(len(t) for t in texts) - 1\n",
        "    matrix = np.zeros((max_context + 1, max_guess + 1), dtype=int)\n",
        "\n",
        "    for context in range(max_context + 1):\n",
        "        for t in texts:\n",
        "            if context < len(t):\n",
        "                guess = t[context]\n",
        "                if 0 <= guess <= max_guess:\n",
        "                    matrix[context, guess] += 1\n",
        "    return matrix\n",
        "\n",
        "# Build the matrix from all texts\n",
        "combined_matrix = build_matrix(text2_guesses, text3_guesses, text4_guesses)\n",
        "\n",
        "# Print results\n",
        "np.set_printoptions(threshold=np.inf)\n",
        "print(\"Combined Context-Guess Matrix\")\n",
        "print(f\"Shape: {combined_matrix.shape} (rows = context length, cols = guesses)\")\n",
        "print(combined_matrix)\n",
        "\n"
      ],
      "metadata": {
        "id": "deK9pKWC1Qp_",
        "colab": {
          "base_uri": "https://localhost:8080/"
        },
        "collapsed": true,
        "outputId": "0068a21f-1d6b-4e8e-d3d1-ce1e140f0b65"
      },
      "execution_count": 5,
      "outputs": [
        {
          "output_type": "stream",
          "name": "stdout",
          "text": [
            "Combined Context-Guess Matrix\n",
            "Shape: (67, 28) (rows = context length, cols = guesses)\n",
            "[[0 1 1 0 0 0 0 0 0 0 0 0 0 1 0 0 0 0 0 0 0 0 0 0 0 0 0 0]\n",
            " [0 1 0 1 0 0 1 0 0 0 0 0 0 0 0 0 0 0 0 0 0 0 0 0 0 0 0 0]\n",
            " [0 1 0 0 0 2 0 0 0 0 0 0 0 0 0 0 0 0 0 0 0 0 0 0 0 0 0 0]\n",
            " [0 1 0 1 0 0 0 0 0 1 0 0 0 0 0 0 0 0 0 0 0 0 0 0 0 0 0 0]\n",
            " [0 2 0 0 0 1 0 0 0 0 0 0 0 0 0 0 0 0 0 0 0 0 0 0 0 0 0 0]\n",
            " [0 1 1 0 0 0 0 0 1 0 0 0 0 0 0 0 0 0 0 0 0 0 0 0 0 0 0 0]\n",
            " [0 2 0 1 0 0 0 0 0 0 0 0 0 0 0 0 0 0 0 0 0 0 0 0 0 0 0 0]\n",
            " [0 2 1 0 0 0 0 0 0 0 0 0 0 0 0 0 0 0 0 0 0 0 0 0 0 0 0 0]\n",
            " [0 0 1 0 0 0 0 0 1 1 0 0 0 0 0 0 0 0 0 0 0 0 0 0 0 0 0 0]\n",
            " [0 0 1 2 0 0 0 0 0 0 0 0 0 0 0 0 0 0 0 0 0 0 0 0 0 0 0 0]\n",
            " [0 2 1 0 0 0 0 0 0 0 0 0 0 0 0 0 0 0 0 0 0 0 0 0 0 0 0 0]\n",
            " [0 3 0 0 0 0 0 0 0 0 0 0 0 0 0 0 0 0 0 0 0 0 0 0 0 0 0 0]\n",
            " [0 3 0 0 0 0 0 0 0 0 0 0 0 0 0 0 0 0 0 0 0 0 0 0 0 0 0 0]\n",
            " [0 2 1 0 0 0 0 0 0 0 0 0 0 0 0 0 0 0 0 0 0 0 0 0 0 0 0 0]\n",
            " [0 3 0 0 0 0 0 0 0 0 0 0 0 0 0 0 0 0 0 0 0 0 0 0 0 0 0 0]\n",
            " [0 2 0 0 0 0 0 1 0 0 0 0 0 0 0 0 0 0 0 0 0 0 0 0 0 0 0 0]\n",
            " [0 1 1 0 1 0 0 0 0 0 0 0 0 0 0 0 0 0 0 0 0 0 0 0 0 0 0 0]\n",
            " [0 2 0 1 0 0 0 0 0 0 0 0 0 0 0 0 0 0 0 0 0 0 0 0 0 0 0 0]\n",
            " [0 2 0 0 0 0 0 0 0 0 0 1 0 0 0 0 0 0 0 0 0 0 0 0 0 0 0 0]\n",
            " [0 2 0 1 0 0 0 0 0 0 0 0 0 0 0 0 0 0 0 0 0 0 0 0 0 0 0 0]\n",
            " [0 1 0 1 1 0 0 0 0 0 0 0 0 0 0 0 0 0 0 0 0 0 0 0 0 0 0 0]\n",
            " [0 2 1 0 0 0 0 0 0 0 0 0 0 0 0 0 0 0 0 0 0 0 0 0 0 0 0 0]\n",
            " [0 3 0 0 0 0 0 0 0 0 0 0 0 0 0 0 0 0 0 0 0 0 0 0 0 0 0 0]\n",
            " [0 3 0 0 0 0 0 0 0 0 0 0 0 0 0 0 0 0 0 0 0 0 0 0 0 0 0 0]\n",
            " [0 3 0 0 0 0 0 0 0 0 0 0 0 0 0 0 0 0 0 0 0 0 0 0 0 0 0 0]\n",
            " [0 2 0 0 0 0 0 0 0 0 0 0 0 0 0 0 1 0 0 0 0 0 0 0 0 0 0 0]\n",
            " [0 1 2 0 0 0 0 0 0 0 0 0 0 0 0 0 0 0 0 0 0 0 0 0 0 0 0 0]\n",
            " [0 0 0 1 0 0 0 0 1 0 0 1 0 0 0 0 0 0 0 0 0 0 0 0 0 0 0 0]\n",
            " [0 2 0 0 1 0 0 0 0 0 0 0 0 0 0 0 0 0 0 0 0 0 0 0 0 0 0 0]\n",
            " [0 2 0 1 0 0 0 0 0 0 0 0 0 0 0 0 0 0 0 0 0 0 0 0 0 0 0 0]\n",
            " [0 1 1 0 0 0 0 1 0 0 0 0 0 0 0 0 0 0 0 0 0 0 0 0 0 0 0 0]\n",
            " [0 3 0 0 0 0 0 0 0 0 0 0 0 0 0 0 0 0 0 0 0 0 0 0 0 0 0 0]\n",
            " [0 1 0 0 0 0 0 0 0 0 1 0 0 1 0 0 0 0 0 0 0 0 0 0 0 0 0 0]\n",
            " [0 2 0 0 0 1 0 0 0 0 0 0 0 0 0 0 0 0 0 0 0 0 0 0 0 0 0 0]\n",
            " [0 2 0 0 0 1 0 0 0 0 0 0 0 0 0 0 0 0 0 0 0 0 0 0 0 0 0 0]\n",
            " [0 2 0 0 0 0 0 1 0 0 0 0 0 0 0 0 0 0 0 0 0 0 0 0 0 0 0 0]\n",
            " [0 2 1 0 0 0 0 0 0 0 0 0 0 0 0 0 0 0 0 0 0 0 0 0 0 0 0 0]\n",
            " [0 1 1 0 0 0 1 0 0 0 0 0 0 0 0 0 0 0 0 0 0 0 0 0 0 0 0 0]\n",
            " [0 2 0 0 0 1 0 0 0 0 0 0 0 0 0 0 0 0 0 0 0 0 0 0 0 0 0 0]\n",
            " [0 1 0 0 0 1 0 0 0 0 0 0 0 0 0 0 0 0 1 0 0 0 0 0 0 0 0 0]\n",
            " [0 2 1 0 0 0 0 0 0 0 0 0 0 0 0 0 0 0 0 0 0 0 0 0 0 0 0 0]\n",
            " [0 1 0 0 0 1 0 1 0 0 0 0 0 0 0 0 0 0 0 0 0 0 0 0 0 0 0 0]\n",
            " [0 2 0 0 1 0 0 0 0 0 0 0 0 0 0 0 0 0 0 0 0 0 0 0 0 0 0 0]\n",
            " [0 2 1 0 0 0 0 0 0 0 0 0 0 0 0 0 0 0 0 0 0 0 0 0 0 0 0 0]\n",
            " [0 1 0 0 0 2 0 0 0 0 0 0 0 0 0 0 0 0 0 0 0 0 0 0 0 0 0 0]\n",
            " [0 2 0 0 1 0 0 0 0 0 0 0 0 0 0 0 0 0 0 0 0 0 0 0 0 0 0 0]\n",
            " [0 2 0 0 0 0 0 1 0 0 0 0 0 0 0 0 0 0 0 0 0 0 0 0 0 0 0 0]\n",
            " [0 2 0 0 0 0 0 0 0 0 0 0 0 0 0 0 0 0 0 0 0 0 0 0 0 0 0 0]\n",
            " [0 1 0 0 1 0 0 0 0 0 0 0 0 0 0 0 0 0 0 0 0 0 0 0 0 0 0 0]\n",
            " [0 2 0 0 0 0 0 0 0 0 0 0 0 0 0 0 0 0 0 0 0 0 0 0 0 0 0 0]\n",
            " [0 2 0 0 0 0 0 0 0 0 0 0 0 0 0 0 0 0 0 0 0 0 0 0 0 0 0 0]\n",
            " [0 2 0 0 0 0 0 0 0 0 0 0 0 0 0 0 0 0 0 0 0 0 0 0 0 0 0 0]\n",
            " [0 1 0 1 0 0 0 0 0 0 0 0 0 0 0 0 0 0 0 0 0 0 0 0 0 0 0 0]\n",
            " [0 0 1 0 1 0 0 0 0 0 0 0 0 0 0 0 0 0 0 0 0 0 0 0 0 0 0 0]\n",
            " [0 2 0 0 0 0 0 0 0 0 0 0 0 0 0 0 0 0 0 0 0 0 0 0 0 0 0 0]\n",
            " [0 1 0 0 0 1 0 0 0 0 0 0 0 0 0 0 0 0 0 0 0 0 0 0 0 0 0 0]\n",
            " [0 2 0 0 0 0 0 0 0 0 0 0 0 0 0 0 0 0 0 0 0 0 0 0 0 0 0 0]\n",
            " [0 0 1 0 0 0 0 0 0 0 0 0 0 0 0 0 0 0 0 0 0 0 0 0 0 0 0 0]\n",
            " [0 1 0 0 0 0 0 0 0 0 0 0 0 0 0 0 0 0 0 0 0 0 0 0 0 0 0 0]\n",
            " [0 1 0 0 0 0 0 0 0 0 0 0 0 0 0 0 0 0 0 0 0 0 0 0 0 0 0 0]\n",
            " [0 1 0 0 0 0 0 0 0 0 0 0 0 0 0 0 0 0 0 0 0 0 0 0 0 0 0 0]\n",
            " [0 1 0 0 0 0 0 0 0 0 0 0 0 0 0 0 0 0 0 0 0 0 0 0 0 0 0 0]\n",
            " [0 1 0 0 0 0 0 0 0 0 0 0 0 0 0 0 0 0 0 0 0 0 0 0 0 0 0 0]\n",
            " [0 0 1 0 0 0 0 0 0 0 0 0 0 0 0 0 0 0 0 0 0 0 0 0 0 0 0 0]\n",
            " [0 1 0 0 0 0 0 0 0 0 0 0 0 0 0 0 0 0 0 0 0 0 0 0 0 0 0 0]\n",
            " [0 1 0 0 0 0 0 0 0 0 0 0 0 0 0 0 0 0 0 0 0 0 0 0 0 0 0 0]\n",
            " [0 1 0 0 0 0 0 0 0 0 0 0 0 0 0 0 0 0 0 0 0 0 0 0 0 0 0 0]]\n"
          ]
        }
      ]
    },
    {
      "cell_type": "markdown",
      "source": [
        "Now you can compute Shannon's upper and lower bounds on the entropy of your predictive distribution for English. The upper bound, as a function of the number of context characters $N$, is just the Shannon entropy of the distribution of numbers of guesses. In other words, it's the entropy of the original text as &ldquo;reduced&rdquo; by the human encoder to a sequence of numbers of guesses.\n",
        "\n",
        "$F_N = -\\sum_{i=1}^{27} q_i^N \\log_2 q_i^N$\n",
        "\n",
        "where $q_i^N$ is the number of times you took $i$ guesses with $N$ characters of context, i.e., one of the cells in the table you computed. The number of guesses ranges from 1 to 27 since we restrict ourselves to 26 letters plus space. In computing entropy, we define $0 \\log 0 = 0$."
      ],
      "metadata": {
        "id": "BR9BqdYO2eTO"
      }
    },
    {
      "cell_type": "code",
      "source": [
        "# TODO: Compute the upper bound for each amount of context N and print it out.\n",
        "\n",
        "import numpy as np\n",
        "\n",
        "def compute_upper_bounds(res_matrix):\n",
        "    results = []\n",
        "    for context in range(res_matrix.shape[0]):\n",
        "        counts = res_matrix[context, 1:28]   # ignore guess=0\n",
        "        total = np.sum(counts)\n",
        "        if total > 0:\n",
        "            probabilities = counts / total\n",
        "            # skip zero probabilities\n",
        "            entropy = -np.sum(probabilities[probabilities > 0] * np.log2(probabilities[probabilities > 0]))\n",
        "        else:\n",
        "            entropy = 0.0\n",
        "        results.append((context, int(total), entropy))\n",
        "    return results\n",
        "\n",
        "\n",
        "upper_bounds = compute_upper_bounds(combined_matrix)\n",
        "\n",
        "# Print Results\n",
        "print(\"Context | Total Counts | F^N (bits)\")\n",
        "print(\"-----------------------------------\")\n",
        "for context, total, entropy in upper_bounds:\n",
        "    print(f\"{context:7d} | {total:12d} | {entropy:.6f}\")\n",
        "\n"
      ],
      "metadata": {
        "id": "4ubcFqVv4CjC",
        "colab": {
          "base_uri": "https://localhost:8080/"
        },
        "outputId": "a62e9eb8-b83c-47f7-86bf-f3a9ae49d24f"
      },
      "execution_count": 8,
      "outputs": [
        {
          "output_type": "stream",
          "name": "stdout",
          "text": [
            "Context | Total Counts | F^N (bits)\n",
            "-----------------------------------\n",
            "      0 |            3 | 1.584963\n",
            "      1 |            3 | 1.584963\n",
            "      2 |            3 | 0.918296\n",
            "      3 |            3 | 1.584963\n",
            "      4 |            3 | 0.918296\n",
            "      5 |            3 | 1.584963\n",
            "      6 |            3 | 0.918296\n",
            "      7 |            3 | 0.918296\n",
            "      8 |            3 | 1.584963\n",
            "      9 |            3 | 0.918296\n",
            "     10 |            3 | 0.918296\n",
            "     11 |            3 | -0.000000\n",
            "     12 |            3 | -0.000000\n",
            "     13 |            3 | 0.918296\n",
            "     14 |            3 | -0.000000\n",
            "     15 |            3 | 0.918296\n",
            "     16 |            3 | 1.584963\n",
            "     17 |            3 | 0.918296\n",
            "     18 |            3 | 0.918296\n",
            "     19 |            3 | 0.918296\n",
            "     20 |            3 | 1.584963\n",
            "     21 |            3 | 0.918296\n",
            "     22 |            3 | -0.000000\n",
            "     23 |            3 | -0.000000\n",
            "     24 |            3 | -0.000000\n",
            "     25 |            3 | 0.918296\n",
            "     26 |            3 | 0.918296\n",
            "     27 |            3 | 1.584963\n",
            "     28 |            3 | 0.918296\n",
            "     29 |            3 | 0.918296\n",
            "     30 |            3 | 1.584963\n",
            "     31 |            3 | -0.000000\n",
            "     32 |            3 | 1.584963\n",
            "     33 |            3 | 0.918296\n",
            "     34 |            3 | 0.918296\n",
            "     35 |            3 | 0.918296\n",
            "     36 |            3 | 0.918296\n",
            "     37 |            3 | 1.584963\n",
            "     38 |            3 | 0.918296\n",
            "     39 |            3 | 1.584963\n",
            "     40 |            3 | 0.918296\n",
            "     41 |            3 | 1.584963\n",
            "     42 |            3 | 0.918296\n",
            "     43 |            3 | 0.918296\n",
            "     44 |            3 | 0.918296\n",
            "     45 |            3 | 0.918296\n",
            "     46 |            3 | 0.918296\n",
            "     47 |            2 | -0.000000\n",
            "     48 |            2 | 1.000000\n",
            "     49 |            2 | -0.000000\n",
            "     50 |            2 | -0.000000\n",
            "     51 |            2 | -0.000000\n",
            "     52 |            2 | 1.000000\n",
            "     53 |            2 | 1.000000\n",
            "     54 |            2 | -0.000000\n",
            "     55 |            2 | 1.000000\n",
            "     56 |            2 | -0.000000\n",
            "     57 |            1 | -0.000000\n",
            "     58 |            1 | -0.000000\n",
            "     59 |            1 | -0.000000\n",
            "     60 |            1 | -0.000000\n",
            "     61 |            1 | -0.000000\n",
            "     62 |            1 | -0.000000\n",
            "     63 |            1 | -0.000000\n",
            "     64 |            1 | -0.000000\n",
            "     65 |            1 | -0.000000\n",
            "     66 |            1 | -0.000000\n"
          ]
        }
      ]
    },
    {
      "cell_type": "markdown",
      "source": [
        "Shannon derived a lower bound on entropy from the guess data as\n",
        "\n",
        "$\\sum_{i=1}^{27} i(q_i^N - q_{i+1}^N) \\log_2 i$"
      ],
      "metadata": {
        "id": "NRULmLAM4I5g"
      }
    },
    {
      "cell_type": "code",
      "source": [
        "# TODO: Compute thew lower bound for each amount of context N and print it out.\n",
        "import numpy as np\n",
        "\n",
        "def compute_lower_bounds(res_matrix):\n",
        "    results = []\n",
        "    for context in range(res_matrix.shape[0]):\n",
        "        q = res_matrix[context, 1:28]  # guesses 1..27\n",
        "        if np.sum(q) > 0:\n",
        "            lower = 0.0\n",
        "            for i in range(1, 28):  # i = 1..27\n",
        "                q_i = q[i-1]\n",
        "                q_i1 = q[i] if i < 27 else 0\n",
        "                diff = q_i - q_i1\n",
        "                if diff != 0:\n",
        "                    lower += i * diff * np.log2(i)\n",
        "        else:\n",
        "            lower = 0.0\n",
        "        results.append((context, int(np.sum(q)), lower))\n",
        "    return results\n",
        "\n",
        "lower_bounds = compute_lower_bounds(combined_matrix)\n",
        "\n",
        "# Print results\n",
        "print(\"Context | Total Counts | L^N (bits)\")\n",
        "print(\"-----------------------------------\")\n",
        "for context, total, lower in lower_bounds:\n",
        "    print(f\"{context:7d} | {total:12d} | {lower:.6f}\")\n"
      ],
      "metadata": {
        "id": "QjRBkxVdB-4S",
        "colab": {
          "base_uri": "https://localhost:8080/"
        },
        "outputId": "a475a4b9-3d37-4bc7-f0d8-ae191efbe128"
      },
      "execution_count": 9,
      "outputs": [
        {
          "output_type": "stream",
          "name": "stdout",
          "text": [
            "Context | Total Counts | L^N (bits)\n",
            "-----------------------------------\n",
            "      0 |            3 | 7.086166\n",
            "      1 |            3 | 6.655022\n",
            "      2 |            3 | 7.219281\n",
            "      3 |            3 | 7.284213\n",
            "      4 |            3 | 3.609640\n",
            "      5 |            3 | 6.348516\n",
            "      6 |            3 | 2.754888\n",
            "      7 |            3 | 2.000000\n",
            "      8 |            3 | 10.877841\n",
            "      9 |            3 | 7.509775\n",
            "     10 |            3 | 2.000000\n",
            "     11 |            3 | 0.000000\n",
            "     12 |            3 | 0.000000\n",
            "     13 |            3 | 2.000000\n",
            "     14 |            3 | 0.000000\n",
            "     15 |            3 | 4.141709\n",
            "     16 |            3 | 5.245112\n",
            "     17 |            3 | 2.754888\n",
            "     18 |            3 | 4.834467\n",
            "     19 |            3 | 2.754888\n",
            "     20 |            3 | 6.000000\n",
            "     21 |            3 | 2.000000\n",
            "     22 |            3 | 0.000000\n",
            "     23 |            3 | 0.000000\n",
            "     24 |            3 | 0.000000\n",
            "     25 |            3 | 5.396641\n",
            "     26 |            3 | 4.000000\n",
            "     27 |            3 | 11.937870\n",
            "     28 |            3 | 3.245112\n",
            "     29 |            3 | 2.754888\n",
            "     30 |            3 | 6.141709\n",
            "     31 |            3 | 0.000000\n",
            "     32 |            3 | 9.776122\n",
            "     33 |            3 | 3.609640\n",
            "     34 |            3 | 3.609640\n",
            "     35 |            3 | 4.141709\n",
            "     36 |            3 | 2.000000\n",
            "     37 |            3 | 5.900135\n",
            "     38 |            3 | 3.609640\n",
            "     39 |            3 | 9.181422\n",
            "     40 |            3 | 2.000000\n",
            "     41 |            3 | 7.751350\n",
            "     42 |            3 | 3.245112\n",
            "     43 |            3 | 2.000000\n",
            "     44 |            3 | 7.219281\n",
            "     45 |            3 | 3.245112\n",
            "     46 |            3 | 4.141709\n",
            "     47 |            2 | 0.000000\n",
            "     48 |            2 | 3.245112\n",
            "     49 |            2 | 0.000000\n",
            "     50 |            2 | 0.000000\n",
            "     51 |            2 | 0.000000\n",
            "     52 |            2 | 2.754888\n",
            "     53 |            2 | 5.245112\n",
            "     54 |            2 | 0.000000\n",
            "     55 |            2 | 3.609640\n",
            "     56 |            2 | 0.000000\n",
            "     57 |            1 | 2.000000\n",
            "     58 |            1 | 0.000000\n",
            "     59 |            1 | 0.000000\n",
            "     60 |            1 | 0.000000\n",
            "     61 |            1 | 0.000000\n",
            "     62 |            1 | 0.000000\n",
            "     63 |            1 | 2.000000\n",
            "     64 |            1 | 0.000000\n",
            "     65 |            1 | 0.000000\n",
            "     66 |            1 | 0.000000\n"
          ]
        }
      ]
    },
    {
      "cell_type": "markdown",
      "source": [
        "## Zipf's Law\n",
        "\n",
        "Now let's look at some text data directly to see the skewed distribution of tokens predicted by Zipf's Law. Recall that Zipf's law states that a word's rank (from the most common word at rank 1 on down) to its frequency is approximately a constant, i.e., $r \\cdot f = k$. Equivalently, we can divide both sides by the total number of tokens $N$ to get $r \\cdot P_r = c$, where $c = k/N$ and $P_r = f/N$ is the _relative frequency_ of word $r$.\n",
        "\n",
        "We start by downloading a sample of 1000 open-access English books from [Project Gutenberg](https://gutenberg.org/)."
      ],
      "metadata": {
        "id": "QRingmXrfJSI"
      }
    },
    {
      "cell_type": "code",
      "source": [
        "# If your local environment doesn't have the wget command,\n",
        "# you can comment this out and download it manually.\n",
        "!wget \"http://khoury.northeastern.edu/home/dasmith/pg-sample.json.gz\""
      ],
      "metadata": {
        "id": "iwJS1ClihN_I",
        "colab": {
          "base_uri": "https://localhost:8080/"
        },
        "outputId": "f75a23c9-42b2-450c-f922-a951d0812ee5"
      },
      "execution_count": 10,
      "outputs": [
        {
          "output_type": "stream",
          "name": "stdout",
          "text": [
            "--2025-09-19 01:01:50--  http://khoury.northeastern.edu/home/dasmith/pg-sample.json.gz\n",
            "Resolving khoury.northeastern.edu (khoury.northeastern.edu)... 52.70.229.197\n",
            "Connecting to khoury.northeastern.edu (khoury.northeastern.edu)|52.70.229.197|:80... connected.\n",
            "HTTP request sent, awaiting response... 200 OK\n",
            "Length: 150984197 (144M) [application/x-gzip]\n",
            "Saving to: ‘pg-sample.json.gz.1’\n",
            "\n",
            "pg-sample.json.gz.1 100%[===================>] 143.99M  99.7MB/s    in 1.4s    \n",
            "\n",
            "2025-09-19 01:01:51 (99.7 MB/s) - ‘pg-sample.json.gz.1’ saved [150984197/150984197]\n",
            "\n"
          ]
        }
      ]
    },
    {
      "cell_type": "markdown",
      "source": [
        "The file is compressed with gzip and is in a JSON lines format. Each line is one JSON record, which we parse with the `json` library.\n",
        "\n",
        "Here we print out the keys in the first record: `id`, `author`, `title`, and `text`."
      ],
      "metadata": {
        "id": "rcOHU_GPiYwH"
      }
    },
    {
      "cell_type": "code",
      "source": [
        "import gzip, json\n",
        "for line in gzip.open(\"pg-sample.json.gz\", mode=\"rt\", encoding=\"utf-8\"):\n",
        "  rec = json.loads(line)\n",
        "  print(rec.keys())\n",
        "  print(rec['author'])\n",
        "  print(rec['title'])\n",
        "  print(rec['text'][0:100])\n",
        "  break"
      ],
      "metadata": {
        "colab": {
          "base_uri": "https://localhost:8080/"
        },
        "id": "_L3x1DRZhfTb",
        "outputId": "43300af8-fc00-4665-e1ac-848b744a704e"
      },
      "execution_count": 11,
      "outputs": [
        {
          "output_type": "stream",
          "name": "stdout",
          "text": [
            "dict_keys(['id', 'author', 'title', 'text'])\n",
            "Jefferson, Thomas\n",
            "The Declaration of Independence of the United States of America\n",
            "\n",
            "\n",
            "This is a retranscription of one of the first Project\n",
            "Gutenberg Etexts, offically dated December 3\n"
          ]
        }
      ]
    },
    {
      "cell_type": "markdown",
      "source": [
        "Your task now is to **tokenize** the text in the `text` field of each record into an array of words. Later on in this course, we will discuss learning better tokenizers. For now, you should separate words on whitespace (space, newline, tab) and punctuation. Convert the tokens to lower case, and keep only those tokens that have at least one letter a-z in them. In general, numerals in text tend not to follow Zipf's law but [Benford's law](https://en.wikipedia.org/wiki/Benford%27s_law).\n",
        "\n",
        "You might use _regular expressions_ (e.g., the `re.split` function) to help with tokenization and filtering.\n",
        "\n",
        "After you have tokenized, compute $N$, the total number of tokens in the corpus and print it out."
      ],
      "metadata": {
        "id": "XbfYV9Fyi2UC"
      }
    },
    {
      "cell_type": "code",
      "source": [
        "# TODO: Compute an array of tokens in the corpus\n",
        "# Compute the total number of tokens N and print it out.\n",
        "\n",
        "import gzip\n",
        "import json\n",
        "import re\n",
        "\n",
        "all_tokens = []\n",
        "\n",
        "with gzip.open(\"pg-sample.json.gz\", mode=\"rt\", encoding=\"utf-8\") as f:\n",
        "    for line in f:\n",
        "        rec = json.loads(line)\n",
        "        text = rec['text']\n",
        "\n",
        "        # Split into tokens\n",
        "        tokens = re.split(r'[\\s\\W_]+', text)\n",
        "\n",
        "        # Convert to lowercase and keep only tokens with at least one letter\n",
        "        tokens = [t.lower() for t in tokens if re.search(r'[a-z]', t)]\n",
        "\n",
        "        all_tokens.extend(tokens)\n",
        "\n",
        "N = len(all_tokens)\n",
        "\n",
        "print(\"Total tokens in corpus:\", N)\n"
      ],
      "metadata": {
        "id": "EsVzek9vkgFc",
        "colab": {
          "base_uri": "https://localhost:8080/"
        },
        "outputId": "65b5481b-b282-4430-ffd9-991e34d018cd"
      },
      "execution_count": 12,
      "outputs": [
        {
          "output_type": "stream",
          "name": "stdout",
          "text": [
            "Total tokens in corpus: 68003466\n"
          ]
        }
      ]
    },
    {
      "cell_type": "markdown",
      "source": [
        "Now, count the frequency each unigram (distinct word) in the corpus and sort them in an array in descending order of frequency. The first item in your array should be the most common word. Print out that word and its frequency"
      ],
      "metadata": {
        "id": "XkRccWKsk4TE"
      }
    },
    {
      "cell_type": "code",
      "source": [
        "# TODO: Compute an arrary of unigrams in descending order of frequency.\n",
        "# Print the most common word and its frequency.\n",
        "\n",
        "from collections import Counter\n",
        "\n",
        "# Count frequencies of each unigram\n",
        "unigram_counts = Counter(all_tokens)\n",
        "\n",
        "# Sort unigrams in descending order of frequency\n",
        "sorted_unigrams = unigram_counts.most_common()\n",
        "\n",
        "# Get the most common word and its frequency\n",
        "most_common_word, most_common_freq = sorted_unigrams[0]\n",
        "\n",
        "print(\"Most common word:\", most_common_word)\n",
        "print(\"Frequency:\", most_common_freq)\n"
      ],
      "metadata": {
        "id": "jhJ7ec3jk2eS",
        "colab": {
          "base_uri": "https://localhost:8080/"
        },
        "outputId": "92cc13b9-49b3-4c90-c73c-b81960725e03"
      },
      "execution_count": 13,
      "outputs": [
        {
          "output_type": "stream",
          "name": "stdout",
          "text": [
            "Most common word: the\n",
            "Frequency: 4440562\n"
          ]
        }
      ]
    },
    {
      "cell_type": "markdown",
      "source": [
        "Now, you can look at the Zipf's law relationship between rank and relative frequency (i.e., frequency divided by $N$). Plot the data using a python graphing package such as matplotlib, plotly, or plotnine. This doesn't have to be a fancy graph, so use whatever you're familiar with. Both axes should be on a log scale. If your package doesn't support log scales, you can take the log of the rank and relative frequency yourself before plotting. Recall that since python arrays are zero-indexed, the rank 1 word will be element 0 of your sorted array."
      ],
      "metadata": {
        "id": "ubHNre1ollvl"
      }
    },
    {
      "cell_type": "code",
      "source": [
        "# TODO: Plot rank vs. relative frequency of unigrams.\n",
        "\n",
        "import matplotlib.pyplot as plt\n",
        "import numpy as np\n",
        "\n",
        "# Compute ranks\n",
        "ranks_unigram = np.arange(1, len(sorted_unigrams) + 1)\n",
        "\n",
        "# Compute relative frequencies\n",
        "freqs_unigram = np.array([freq / N for _, freq in sorted_unigrams])\n",
        "\n",
        "# Plot\n",
        "plt.figure(figsize=(8,6))\n",
        "plt.loglog(ranks_unigram, freqs_unigram, marker=\".\")\n",
        "plt.xlabel(\"Rank (log scale)\")\n",
        "plt.ylabel(\"Relative Frequency (log scale)\")\n",
        "plt.title(\"Zipf's Law: Rank vs Relative Frequency of Unigrams\")\n",
        "plt.grid(True, which=\"both\", linestyle=\"--\", linewidth=0.5)\n",
        "plt.show()\n"
      ],
      "metadata": {
        "id": "H1wq5OGBmJP1",
        "colab": {
          "base_uri": "https://localhost:8080/",
          "height": 569
        },
        "outputId": "028d76ab-afdd-4a1f-d220-ee22a1497fe0"
      },
      "execution_count": 14,
      "outputs": [
        {
          "output_type": "display_data",
          "data": {
            "text/plain": [
              "<Figure size 800x600 with 1 Axes>"
            ],
            "image/png": "[encoded data removed]"
          },
          "metadata": {}
        }
      ]
    },
    {
      "cell_type": "markdown",
      "source": [
        "Now, take your array of tokens and compute the counts of both the bigrams and trigrams and sort them in descending order of frequency. Print out the most common bigram and trigram."
      ],
      "metadata": {
        "id": "dTVQFNXOmc34"
      }
    },
    {
      "cell_type": "code",
      "source": [
        "# TODO: Compute sorted bigram and trigram statistics.\n",
        "# Print out the most common bigram and trigram.\n",
        "# Plot rank vs. relative frequency for bigrams and trigrams.\n",
        "# You may make separate plots or put them on the same plot and label them.\n",
        "\n",
        "from collections import Counter\n",
        "import matplotlib.pyplot as plt\n",
        "import numpy as np\n",
        "\n",
        "# Bigrams\n",
        "bigrams = [(all_tokens[i], all_tokens[i+1]) for i in range(len(all_tokens)-1)]\n",
        "bigram_counts = Counter(bigrams)\n",
        "sorted_bigrams = bigram_counts.most_common()\n",
        "\n",
        "# Compute relative frequencies\n",
        "N = len(all_tokens)\n",
        "\n",
        "ranks_bigram = np.arange(1, len(sorted_bigrams) + 1)\n",
        "freqs_bigram = np.array([f/(N-1) for _, f in sorted_bigrams])\n",
        "\n",
        "# Plot\n",
        "plt.figure(figsize=(8,6))\n",
        "plt.loglog(ranks_bigram, freqs_bigram, marker=\".\")\n",
        "\n",
        "plt.xlabel(\"Rank (log scale)\")\n",
        "plt.ylabel(\"Relative Frequency (log scale)\")\n",
        "plt.title(\"Zipf's Law: Rank vs Relative Frequency of Bigrams\")\n",
        "plt.grid(True, which=\"both\", linestyle=\"--\", linewidth=0.5)\n",
        "plt.show()\n"
      ],
      "metadata": {
        "id": "glYoeIsJmm_d"
      },
      "execution_count": null,
      "outputs": []
    },
    {
      "cell_type": "code",
      "source": [
        "# TODO: Compute sorted bigram and trigram statistics.\n",
        "# Print out the most common bigram and trigram.\n",
        "# Plot rank vs. relative frequency for bigrams and trigrams.\n",
        "# You may make separate plots or put them on the same plot and label them.\n",
        "\n",
        "from collections import Counter\n",
        "import matplotlib.pyplot as plt\n",
        "import numpy as np\n",
        "\n",
        "# Trigrams\n",
        "trigrams = [(all_tokens[i], all_tokens[i+1], all_tokens[i+2]) for i in range(len(all_tokens)-2)]\n",
        "trigram_counts = Counter(trigrams)\n",
        "sorted_trigrams = trigram_counts.most_common()\n",
        "\n",
        "# Compute relative frequencies\n",
        "N = len(all_tokens)\n",
        "\n",
        "ranks_trigram = np.arange(1, len(sorted_trigrams) + 1)\n",
        "freqs_trigram = np.array([f/(N-2) for _, f in sorted_trigrams])\n",
        "\n",
        "# Plot\n",
        "plt.figure(figsize=(8,6))\n",
        "plt.loglog(ranks_trigram, freqs_trigram, marker=\".\")\n",
        "\n",
        "plt.xlabel(\"Rank (log scale)\")\n",
        "plt.ylabel(\"Relative Frequency (log scale)\")\n",
        "plt.title(\"Zipf's Law: Rank vs Relative Frequency of Trigrams\")\n",
        "plt.legend()\n",
        "plt.grid(True, which=\"both\", linestyle=\"--\", linewidth=0.5)\n",
        "plt.show()\n"
      ],
      "metadata": {
        "id": "3QWfVOmiaE8d"
      },
      "execution_count": null,
      "outputs": []
    },
    {
      "cell_type": "markdown",
      "source": [
        "**TODO**: Finally, write your visual impressions of the fit of the unigram, bigram, and trigram distributions. This doesn't need to be statistically rigorous."
      ],
      "metadata": {
        "id": "TdUTKyE6m0qF"
      }
    }
  ]
}